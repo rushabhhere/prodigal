{
 "cells": [
  {
   "cell_type": "code",
   "execution_count": 3,
   "metadata": {},
   "outputs": [],
   "source": [
    "from google import genai\n",
    "import os\n",
    "import time"
   ]
  },
  {
   "cell_type": "code",
   "execution_count": 2,
   "metadata": {},
   "outputs": [],
   "source": [
    "client = genai.Client(api_key=os.getenv(\"GEMINI_KEY\"))"
   ]
  },
  {
   "cell_type": "code",
   "execution_count": null,
   "metadata": {},
   "outputs": [],
   "source": [
    "response = client.models.generate_content(\n",
    "    model=\"gemini\", contents=\"Explain how AI works in a few words\"\n",
    ")"
   ]
  },
  {
   "cell_type": "code",
   "execution_count": 5,
   "metadata": {},
   "outputs": [
    {
     "name": "stdout",
     "output_type": "stream",
     "text": [
      "AI learns patterns from data to make predictions or decisions.\n",
      "\n"
     ]
    }
   ],
   "source": [
    "print(response.text)"
   ]
  },
  {
   "cell_type": "code",
   "execution_count": null,
   "metadata": {},
   "outputs": [],
   "source": [
    "# read json files from All_Conversations\n",
    "# make api calls sending json content and asking it to detect all profane words from the conversation\n",
    "# pause for 3 seconds between each call to avoid rate limit\n",
    "\n",
    "# each json file has content as follows\n",
    "# Each json file is a conversation with multiple messages structured as follows\n",
    "# [\n",
    "#     {\n",
    "#         \"speaker\": \"Agent\",\n",
    "#         \"text\": \"Hello, is this Mr. Johnson? This is Lisa calling from XYZ Collections. How are you today?\",\n",
    "#         \"stime\": 0,\n",
    "#         \"etime\": 7\n",
    "#     },\n",
    "#     {\n",
    "#         \"speaker\": \"Customer\",\n",
    "#         \"text\": \"I'm sorry, but I think you have the wrong person. My name is Sarah.\",\n",
    "#         \"stime\": 6.5,\n",
    "#         \"etime\": 12\n",
    "#     },\n",
    "#     {\n",
    "#         \"speaker\": \"Agent\",\n",
    "#         \"text\": \"Oh, I apologize for the confusion, Sarah. I'm reaching out about a debt related to an outstanding balance with Definite Bank.\",\n",
    "#         \"stime\": 11,\n",
    "#         \"etime\": 19\n",
    "#     },\n",
    "#     {\n",
    "#         \"speaker\": \"Customer\",\n",
    "#         \"text\": \"I don't have any account with Definite Bank. You might want to check your records.\",\n",
    "#         \"stime\": 18,\n",
    "#         \"etime\": 24\n",
    "#     },\n",
    "#     {\n",
    "#         \"speaker\": \"Agent\",\n",
    "#         \"text\": \"Thank you for letting me know. I will make a note to update our records.\",\n",
    "#         \"stime\": 23,\n",
    "#         \"etime\": 30\n",
    "#     },\n",
    "#     {\n",
    "#         \"speaker\": \"Customer\",\n",
    "#         \"text\": \"I appreciate that. Is there anything else I need to do?\",\n",
    "#         \"stime\": 29,\n",
    "#         \"etime\": 34\n",
    "#     },\n",
    "#     {\n",
    "#         \"speaker\": \"Agent\",\n",
    "#         \"text\": \"No, that's all. I'm sorry for any inconvenience caused. Have a great day!\",\n",
    "#         \"stime\": 33,\n",
    "#         \"etime\": 40\n",
    "#     },\n",
    "#     {\n",
    "#         \"speaker\": \"Customer\",\n",
    "#         \"text\": \"Thank you, you too!\",\n",
    "#         \"stime\": 39,\n",
    "#         \"etime\": 42\n",
    "#     }\n",
    "# ]\n",
    "\n",
    "profane_words = []\n",
    "\n",
    "for file in os.listdir(\"All_Conversations\"):\n",
    "    if file.endswith(\".json\"):\n",
    "        with open(os.path.join(\"All_Conversations\", file), \"r\") as f:\n",
    "            conversation = f.read()\n",
    "            response = client.models.generate_content(\n",
    "                model=\"gemini\",\n",
    "                contents=conversation,\n",
    "            )\n",
    "            profane_words.append(response.text)\n",
    "            time.sleep(3)"
   ]
  },
  {
   "cell_type": "code",
   "execution_count": null,
   "metadata": {},
   "outputs": [],
   "source": [
    "# First test the code with a single json file\n",
    "\n",
    "with open(\"All_Conversations/.json\", \"r\") as f:"
   ]
  }
 ],
 "metadata": {
  "kernelspec": {
   "display_name": ".venv",
   "language": "python",
   "name": "python3"
  },
  "language_info": {
   "codemirror_mode": {
    "name": "ipython",
    "version": 3
   },
   "file_extension": ".py",
   "mimetype": "text/x-python",
   "name": "python",
   "nbconvert_exporter": "python",
   "pygments_lexer": "ipython3",
   "version": "3.10.11"
  }
 },
 "nbformat": 4,
 "nbformat_minor": 2
}
